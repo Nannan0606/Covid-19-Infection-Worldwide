{
  "nbformat": 4,
  "nbformat_minor": 0,
  "metadata": {
    "kernelspec": {
      "display_name": "Python 3",
      "language": "python",
      "name": "python3"
    },
    "language_info": {
      "codemirror_mode": {
        "name": "ipython",
        "version": 3
      },
      "file_extension": ".py",
      "mimetype": "text/x-python",
      "name": "python",
      "nbconvert_exporter": "python",
      "pygments_lexer": "ipython3",
      "version": "3.7.3"
    },
    "colab": {
      "name": "covid_mysql.ipynb",
      "provenance": []
    }
  },
  "cells": [
    {
      "cell_type": "code",
      "metadata": {
        "id": "9pPp82Tut5lx"
      },
      "source": [
        "pw = 'xxxxx'"
      ],
      "execution_count": null,
      "outputs": []
    },
    {
      "cell_type": "code",
      "metadata": {
        "id": "rRQrpdQyt5lz"
      },
      "source": [
        "import mysql.connector as db\n",
        "from mysql.connector import errorcode\n",
        "import pymysql"
      ],
      "execution_count": null,
      "outputs": []
    },
    {
      "cell_type": "code",
      "metadata": {
        "id": "qOvlaNxJt5lz"
      },
      "source": [
        "try:\n",
        "    cnx = db.connect(user='root', database='covid', password=pw)\n",
        "except db.Error as err:\n",
        "    if err.errno == errorcode.ER_ACCESS_DENIED_ERROR:\n",
        "        print(\"Something is wrong with your user name or password\")\n",
        "    elif err.errno == errorcode.ER_BAD_DB_ERROR:\n",
        "        print(\"Database does not exist\")\n",
        "    else:\n",
        "        print(err)\n",
        "    \n",
        "cur = cnx.cursor(buffered=True)"
      ],
      "execution_count": null,
      "outputs": []
    },
    {
      "cell_type": "code",
      "metadata": {
        "id": "PQ5Rmk8Yt5l0",
        "outputId": "33ebe118-321d-4812-8e84-42164ace8691"
      },
      "source": [
        "query = \"\"\"\n",
        "Select SUM(new_cases) as total_cases, \n",
        "SUM(new_deaths) as total_deaths, \n",
        "SUM(new_deaths)/SUM(new_cases)*100 as DeathPercentage \n",
        "From covid_death \n",
        "where continent is not null \n",
        "order by 1,2\n",
        "\"\"\""
      ],
      "execution_count": null,
      "outputs": [
        {
          "output_type": "execute_result",
          "data": {
            "text/plain": [
              "[(Decimal('315092817'), 6967682.0, 2.2113109611127695)]"
            ]
          },
          "metadata": {
            "tags": []
          },
          "execution_count": 166
        }
      ]
    },
    {
      "cell_type": "code",
      "metadata": {
        "id": "4bA6P6613V88"
      },
      "source": [
        "query = \"\"\"\n",
        "Select location, \n",
        "SUM(cast(new_deaths as SIGNED)) as TotalDeathCount\n",
        "From covid_death\n",
        "Where continent is null \n",
        "and location not in ('World', 'European Union', 'International')\n",
        "Group by location\n",
        "order by TotalDeathCount desc\n",
        "\"\"\""
      ],
      "execution_count": null,
      "outputs": []
    },
    {
      "cell_type": "code",
      "metadata": {
        "id": "wyvqim_qt5l0"
      },
      "source": [
        "query = \"\"\"\n",
        "Select location, population, \n",
        "MAX(total_cases) as HighestInfectionCount,  \n",
        "Max((total_cases/population))*100 as PercentPopulationInfected\n",
        "From covid_death\n",
        "Group by location, population\n",
        "order by PercentPopulationInfected desc\n",
        "\"\"\""
      ],
      "execution_count": null,
      "outputs": []
    },
    {
      "cell_type": "code",
      "metadata": {
        "id": "BRinQ8dM4EHv"
      },
      "source": [
        "query = \"\"\"\n",
        "Select location, \n",
        "population,date, \n",
        "MAX(total_cases) as HighestInfectionCount,  \n",
        "Max((total_cases/population))*100 as PercentPopulationInfected\n",
        "From covid_death\n",
        "Group by location, population, date\n",
        "order by PercentPopulationInfected desc\n",
        "\"\"\""
      ],
      "execution_count": null,
      "outputs": []
    },
    {
      "cell_type": "code",
      "metadata": {
        "id": "2otQbo_ft5l0"
      },
      "source": [
        "results = pd.read_sql_query(query, cnx)\n",
        "results.to_csv(\"table1.csv\", index=False)"
      ],
      "execution_count": null,
      "outputs": []
    },
    {
      "cell_type": "code",
      "metadata": {
        "id": "e04V8AFR4dEp"
      },
      "source": [
        "results = pd.read_sql_query(query, cnx)\n",
        "results.to_csv(\"table2.csv\", index=False)"
      ],
      "execution_count": null,
      "outputs": []
    },
    {
      "cell_type": "code",
      "metadata": {
        "id": "3A-G2bqe4e50"
      },
      "source": [
        "results = pd.read_sql_query(query, cnx)\n",
        "results.to_csv(\"table3.csv\", index=False)"
      ],
      "execution_count": null,
      "outputs": []
    },
    {
      "cell_type": "code",
      "metadata": {
        "id": "LwuNC7214gWN"
      },
      "source": [
        "results = pd.read_sql_query(query, cnx)\n",
        "results.to_csv(\"table4.csv\", index=False)"
      ],
      "execution_count": null,
      "outputs": []
    },
    {
      "cell_type": "code",
      "metadata": {
        "id": "LXsirWuJt5l1"
      },
      "source": [
        "cnx.close()"
      ],
      "execution_count": null,
      "outputs": []
    }
  ]
}